{
 "cells": [
  {
   "cell_type": "markdown",
   "metadata": {},
   "source": [
    "---\n",
    "toc: true\n",
    "comments: true\n",
    "layout: post\n",
    "title: Week 1 accomplishments\n",
    "description: What I got done in week 1\n",
    "courses: { csp: {week: 1} }\n",
    "type: tangibles\n",
    "---"
   ]
  },
  {
   "cell_type": "markdown",
   "metadata": {},
   "source": [
    "# Accomplishments\n",
    "- customized my blog with pictures of my friends and added in my freeform picture\n",
    "- figuered out how to indert a schedule using markdown\n",
    "- Added an 'about me' section and a 'goals for the year' section to homepage\n",
    "- expiremented with multiple themes "
   ]
  },
  {
   "cell_type": "markdown",
   "metadata": {},
   "source": [
    "# Problems I faced\n",
    "- I accidently made muitple respositories named the same thing and I got confused on which I was working on \n",
    "- When I was trying to push out my changes none of them was working because I was not in the same repositroy as my website"
   ]
  }
 ],
 "metadata": {
  "language_info": {
   "name": "python"
  },
  "orig_nbformat": 4
 },
 "nbformat": 4,
 "nbformat_minor": 2
}
