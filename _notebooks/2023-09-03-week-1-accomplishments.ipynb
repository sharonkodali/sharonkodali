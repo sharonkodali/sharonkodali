{
 "cells": [
  {
   "cell_type": "markdown",
   "metadata": {},
   "source": [
    "---\n",
    "toc: true\n",
    "comments: true\n",
    "layout: post\n",
    "title: Week 1 accomplishments\n",
    "description: week 2 calculator\n",
    "courses: { csp: {week: 1} }\n",
    "type: hacks\n",
    "---"
   ]
  },
  {
   "cell_type": "markdown",
   "metadata": {},
   "source": [
    "- customized my blog with pictures of my friends and added in my freeform picture\n",
    "- figuered out how to indert a schedule using markdown\n",
    "- Added an 'about me' section and a 'goals for the year' section to homepage\n",
    "- expiremented with multiple themes "
   ]
  }
 ],
 "metadata": {
  "language_info": {
   "name": "python"
  },
  "orig_nbformat": 4
 },
 "nbformat": 4,
 "nbformat_minor": 2
}
