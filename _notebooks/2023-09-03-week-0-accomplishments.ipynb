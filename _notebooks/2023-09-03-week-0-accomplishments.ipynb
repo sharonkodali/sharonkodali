{
 "cells": [
  {
   "cell_type": "markdown",
   "metadata": {},
   "source": [
    "---\n",
    "toc: true\n",
    "comments: true\n",
    "layout: post\n",
    "title: Week 0 accomplishments \n",
    "description: \n",
    "courses: { csp: {week: 0} }\n",
    "type: tangibles\n",
    "---"
   ]
  },
  {
   "cell_type": "markdown",
   "metadata": {},
   "source": [
    "# Hacks\n",
    "- freeform picture\n",
    "- started downloading my first tools \n",
    "    - \n",
    "    - vscode\n",
    "    - joined slack\n",
    "    - added my information into the nighthawks page\n",
    "    - explored the different components of the the nighthawks page"
   ]
  },
  {
   "cell_type": "markdown",
   "metadata": {},
   "source": [
    "# Problems\n",
    "- hard time joining slack and deleting old files to download vscode"
   ]
  }
 ],
 "metadata": {
  "language_info": {
   "name": "python"
  },
  "orig_nbformat": 4
 },
 "nbformat": 4,
 "nbformat_minor": 2
}
