{
 "cells": [
  {
   "cell_type": "markdown",
   "metadata": {},
   "source": [
    "---\n",
    "toc: true\n",
    "comments: true\n",
    "layout: post\n",
    "title: Week 3 plans\n",
    "description: plans for pair review\n",
    "courses: { csp: {week: 3} }\n",
    "type: plans\n",
    "---"
   ]
  },
  {
   "cell_type": "markdown",
   "metadata": {},
   "source": [
    "# Week 3 plan in detail\n",
    "\n",
    "- Monday(holiday): make plan for week and read through all the teacher posts and take notes in notebook\n",
    "- Tuesday: Start working with partner and share plan with teacher on slack and ask for feedback\n",
    "- Wednesday: Finish the code and ask ChatGpt to review code, build review ticket\n",
    "- Thursday: Plan pair showcase, make posts for accomplishments of the week-this is where I will add my notes- organize all my hacks\n",
    "\n"
   ]
  },
  {
   "cell_type": "markdown",
   "metadata": {},
   "source": [
    "# Ideas for pair programming project (share with teacher for feedback)\n",
    "- make sure to use python, linux and JavaScript\n",
    "- triangle identifier\n",
    "- to do list/planner\n",
    "- Time Zone Converter:\n",
    "  - Build a Python script that converts times between different time zones.\n",
    "  - Create a web-based time zone converter using JavaScript and HTML.\n",
    "- Basic URL Shortener:\n",
    "  - Write a Python script that shortens URLs and redirects users to the original URL.\n",
    "  - Use JavaScript and HTML to create a simple web interface for URL shortening."
   ]
  }
 ],
 "metadata": {
  "language_info": {
   "name": "python"
  },
  "orig_nbformat": 4
 },
 "nbformat": 4,
 "nbformat_minor": 2
}
